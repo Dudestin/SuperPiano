{
  "nbformat": 4,
  "nbformat_minor": 0,
  "metadata": {
    "kernelspec": {
      "name": "python3",
      "display_name": "Python 3"
    },
    "language_info": {
      "codemirror_mode": {
        "name": "ipython",
        "version": 3
      },
      "file_extension": ".py",
      "mimetype": "text/x-python",
      "name": "python",
      "nbconvert_exporter": "python",
      "pygments_lexer": "ipython3",
      "version": "3.7.2"
    },
    "colab": {
      "name": "SuperPiano.ipynb",
      "provenance": [],
      "collapsed_sections": [],
      "toc_visible": true,
      "include_colab_link": true
    },
    "accelerator": "GPU"
  },
  "cells": [
    {
      "cell_type": "markdown",
      "metadata": {
        "id": "view-in-github",
        "colab_type": "text"
      },
      "source": [
        "<a href=\"https://colab.research.google.com/github/asigalov61/SuperPiano/blob/master/SuperPiano.ipynb\" target=\"_parent\"><img src=\"https://colab.research.google.com/assets/colab-badge.svg\" alt=\"Open In Colab\"/></a>"
      ]
    },
    {
      "cell_type": "markdown",
      "metadata": {
        "id": "B15H9oWKZSA7",
        "colab_type": "text"
      },
      "source": [
        "# SUPER PIANO (XLNet Piano)"
      ]
    },
    {
      "cell_type": "markdown",
      "metadata": {
        "id": "WSDH5TNUZcex",
        "colab_type": "text"
      },
      "source": [
        "<a href=\"https://colab.research.google.com/github/asigalov61/SuperPiano/blob/master/SuperPiano.ipynb\" target=\"_parent\"><img src=\"https://colab.research.google.com/assets/colab-badge.svg\" alt=\"Open In Colab\"/></a>\n",
        "\n",
        "Huge thanks goes to Andrew Shaw (bearpelican) for the MusicAutoBot repo/code that was used to create this notebook. This notebook is a fork of Andrew's notebook for MusicTransformer\n",
        "\n",
        "https://github.com/bearpelican\n",
        "\n",
        "https://github.com/bearpelican/musicautobot"
      ]
    },
    {
      "cell_type": "markdown",
      "metadata": {
        "id": "F3N-SRlpNtm7",
        "colab_type": "text"
      },
      "source": [
        "# SETUP THE ENVIRONMENT"
      ]
    },
    {
      "cell_type": "code",
      "metadata": {
        "id": "dzrRdTvlJdFd",
        "colab_type": "code",
        "cellView": "form",
        "colab": {}
      },
      "source": [
        "#@title Install all dependencies/clone repos/import modules\n",
        "!git clone https://github.com/asigalov61/musicautobot.git\n",
        "!nvidia-smi\n",
        "!apt install fluidsynth\n",
        "!gsutil -q -m cp gs://magentadata/soundfonts/Yamaha-C5-Salamander-JNv5.1.sf2 /content/musicautobot\n",
        "!pip install torch fastai music21 pebble fluidsynth midi2audio\n",
        "!pip install pretty_midi\n",
        "!pip install pypianoroll\n",
        "!pip install mir_eval\n",
        "\n",
        "import os\n",
        "os.chdir('musicautobot')\n",
        "from musicautobot.numpy_encode import *\n",
        "from musicautobot.utils.file_processing import process_all, process_file\n",
        "from musicautobot.config import *\n",
        "from musicautobot.music_transformer import *\n",
        "from musicautobot.numpy_encode import stream2npenc_parts\n",
        "from musicautobot.utils.midifile import *\n",
        "from fastai.text import *\n",
        "from midi2audio import FluidSynth\n",
        "from IPython.display import Audio\n",
        "# Colab cannot play music directly from music21 - must convert to .wav first\n",
        "def play_wav(stream):\n",
        "    out_midi = stream.write('midi')\n",
        "    out_wav = str(Path(out_midi).with_suffix('.wav'))\n",
        "    FluidSynth(\"/content/musicautobot/Yamaha-C5-Salamander-JNv5.1.sf2\").midi_to_audio(out_midi, out_wav)\n",
        "    return Audio(out_wav)\n",
        "from google.colab import files\n"
      ],
      "execution_count": null,
      "outputs": []
    },
    {
      "cell_type": "code",
      "metadata": {
        "id": "YEdl4mqo6IAo",
        "colab_type": "code",
        "cellView": "form",
        "colab": {}
      },
      "source": [
        "#@title Mount your Google Drive (Highly recommended)\n",
        "from google.colab import drive\n",
        "drive.mount('/content/drive')"
      ],
      "execution_count": null,
      "outputs": []
    },
    {
      "cell_type": "code",
      "metadata": {
        "id": "S-bqwERQKo2b",
        "colab_type": "code",
        "cellView": "form",
        "colab": {}
      },
      "source": [
        "#@title (OPTIONAL) Download SuperPiano original and ready-to-use training data and model\n",
        "!wget 'https://superpiano.s3-us-west-1.amazonaws.com/training-data-piano-no-dynamics.pkl'\n",
        "!wget 'https://superpiano.s3-us-west-1.amazonaws.com/SuperPianoModel.pth'"
      ],
      "execution_count": null,
      "outputs": []
    },
    {
      "cell_type": "markdown",
      "metadata": {
        "id": "wAQrJh1kjud-",
        "colab_type": "text"
      },
      "source": [
        "# PREP TRAINING DATA"
      ]
    },
    {
      "cell_type": "code",
      "metadata": {
        "id": "_wSL15svjxjN",
        "colab_type": "code",
        "cellView": "form",
        "colab": {}
      },
      "source": [
        "#@title Initialize the paths and variables\n",
        "# Location of your midi filesfiles\n",
        "midi_path = Path('/content/musicautobot/data/midi')\n",
        "midi_path.mkdir(parents=True, exist_ok=True)\n",
        "\n",
        "# Location to save dataset\n",
        "data_path = Path('/content/musicautobot')\n",
        "data_path.mkdir(parents=True, exist_ok=True)\n",
        "\n",
        "# Location of preprocessed numpy files\n",
        "numpy_path = Path('/content/musicautobot/lm')\n",
        "\n",
        "# Location to save trained model/take saved model checkpoint\n",
        "model_path = Path('/content/musicautobot')\n",
        "\n",
        "data_save_name = 'training-data-piano-no-dynamics.pkl'\n",
        "[p.mkdir(parents=True, exist_ok=True) for p in [midi_path, numpy_path, data_path, model_path]];"
      ],
      "execution_count": null,
      "outputs": []
    },
    {
      "cell_type": "markdown",
      "metadata": {
        "id": "oRqyd4H5kAyn",
        "colab_type": "text"
      },
      "source": [
        "#Upload your own MIDI files or dowload ready-to-use DataSet"
      ]
    },
    {
      "cell_type": "code",
      "metadata": {
        "id": "ACKpDyBDmp-m",
        "colab_type": "code",
        "cellView": "form",
        "colab": {}
      },
      "source": [
        "#@title Upload Files Here\n",
        "from google.colab import files\n",
        "uploaded = files.upload()"
      ],
      "execution_count": null,
      "outputs": []
    },
    {
      "cell_type": "code",
      "metadata": {
        "id": "dwVMmwXm3SXb",
        "colab_type": "code",
        "cellView": "form",
        "colab": {}
      },
      "source": [
        "#@title (The Best Choice/Works best stand-alone) Super Piano 2 Original 2500 MIDIs of Piano Music\n",
        "%cd /content/musicautobot/data/midi\n",
        "!wget 'https://github.com/asigalov61/SuperPiano/raw/master/Super_Piano_2_MIDI_DataSet_CC_BY_NC_SA.zip'\n",
        "!unzip -j 'Super_Piano_2_MIDI_DataSet_CC_BY_NC_SA.zip'"
      ],
      "execution_count": null,
      "outputs": []
    },
    {
      "cell_type": "code",
      "metadata": {
        "id": "GGIX4-ptrwUa",
        "colab_type": "code",
        "cellView": "form",
        "colab": {}
      },
      "source": [
        "#@title (Second Best Choice/Works best stand-alone) Alex Piano Only Drafts Original 1500 MIDIs \n",
        "%cd /content/musicautobot/data/midi\n",
        "!wget 'https://github.com/asigalov61/AlexMIDIDataSet/raw/master/AlexMIDIDataSet-CC-BY-NC-SA-All-Drafts-Piano-Only.zip'\n",
        "!unzip -j 'AlexMIDIDataSet-CC-BY-NC-SA-All-Drafts-Piano-Only.zip'"
      ],
      "execution_count": null,
      "outputs": []
    },
    {
      "cell_type": "code",
      "metadata": {
        "id": "vuoi5nZb3dL_",
        "colab_type": "code",
        "cellView": "form",
        "colab": {}
      },
      "source": [
        "#@title (Optional) Google Magenta MAESTRO Piano MIDI Dataset (~1300 MIDIs)\n",
        "%cd /content/musicautobot/data/midi\n",
        "!wget 'https://storage.googleapis.com/magentadata/datasets/maestro/v2.0.0/maestro-v2.0.0-midi.zip'\n",
        "!unzip -j maestro-v2.0.0-midi.zip"
      ],
      "execution_count": null,
      "outputs": []
    },
    {
      "cell_type": "markdown",
      "metadata": {
        "id": "yHEGFP-IOqaE",
        "colab_type": "text"
      },
      "source": [
        "#MIDI PROCESSING"
      ]
    },
    {
      "cell_type": "code",
      "metadata": {
        "id": "w_0l5fZfbEov",
        "colab_type": "code",
        "cellView": "form",
        "colab": {}
      },
      "source": [
        "#@title Calculate and display number of indexed MIDI files\n",
        "# num_tracks = [1, 2] # number of tracks to support\n",
        "cutoff = 5 # max instruments\n",
        "min_variation = 3 # minimum number of different midi notes played\n",
        "# max_dur = 128\n",
        "\n",
        "midi_files = get_files(midi_path, '.midi', recurse=False); len(midi_files)"
      ],
      "execution_count": null,
      "outputs": []
    },
    {
      "cell_type": "code",
      "metadata": {
        "id": "xLe-Jy7ebkKL",
        "colab_type": "code",
        "cellView": "form",
        "colab": {}
      },
      "source": [
        "#@title Parse, Compress, and Convert MIDI files into Numpy format\n",
        "def process_metadata(midi_file):\n",
        "    # Get outfile and check if it exists\n",
        "    out_file = numpy_path/midi_file.relative_to(midi_path).with_suffix('.npy')\n",
        "    out_file.parent.mkdir(parents=True, exist_ok=True)\n",
        "    if out_file.exists(): return\n",
        "    \n",
        "    npenc = transform_midi(midi_file)\n",
        "    if npenc is not None: np.save(out_file, npenc)\n",
        "\n",
        "#===============================================================\n",
        "\n",
        "def transform_midi(midi_file):\n",
        "    input_path = midi_file\n",
        "    \n",
        "    # Part 1: Filter out midi tracks (drums, repetitive instruments, etc.)\n",
        "    try: \n",
        "#         if duet_only and num_piano_tracks(input_path) not in [1, 2]: return None\n",
        "        input_file = compress_midi_file(input_path, min_variation=min_variation, cutoff=cutoff) # remove non note tracks and standardize instruments\n",
        "        \n",
        "        if input_file is None: return None\n",
        "    except Exception as e:\n",
        "        if 'badly form' in str(e): return None # ignore badly formatted midi errors\n",
        "        if 'out of range' in str(e): return None # ignore badly formatted midi errors\n",
        "        print('Error parsing midi', input_path, e)\n",
        "        return None\n",
        "        \n",
        "    # Part 2. Compress rests and long notes\n",
        "    stream = file2stream(input_file) # 1.\n",
        "    try:\n",
        "        chordarr = stream2chordarr(stream) # 2. max_dur = quarter_len * sample_freq (4). 128 = 8 bars\n",
        "    except Exception as e:\n",
        "        print('Could not encode to chordarr:', input_path, e)\n",
        "        print(traceback.format_exc())\n",
        "        return None\n",
        "    \n",
        "    # Part 3. Compress song rests - Don't want songs with really long pauses \n",
        "    # (this happens because we filter out midi tracks).\n",
        "    chord_trim = trim_chordarr_rests(chordarr)\n",
        "    chord_short = shorten_chordarr_rests(chord_trim)\n",
        "    delta_trim = chord_trim.shape[0] - chord_short.shape[0]\n",
        "    if delta_trim > 500: \n",
        "         print(f'Removed {delta_trim} rests from {input_path}. Skipping song')\n",
        "         return None\n",
        "    chordarr = chord_short\n",
        "    \n",
        "    # Part 3. Chord array to numpy\n",
        "    npenc = chordarr2npenc(chordarr)\n",
        "    if not is_valid_npenc(npenc, input_path=input_path):\n",
        "        return None\n",
        "    \n",
        "    return npenc\n",
        "\n",
        "#===============================================================\n",
        "def timeout_func(data, seconds):\n",
        "    print(\"Timeout:\", seconds, data.get('midi'))\n",
        "\n",
        "#===============================================================\n",
        "processed = process_all(process_metadata, midi_files, timeout=120, timeout_func=timeout_func)"
      ],
      "execution_count": null,
      "outputs": []
    },
    {
      "cell_type": "code",
      "metadata": {
        "id": "Rjdoka86dUrS",
        "colab_type": "code",
        "cellView": "form",
        "colab": {}
      },
      "source": [
        "#@title Calculate and display number of resulting Numpy files\n",
        "def create_databunch(files, data_save_name, path=data_path):\n",
        "    save_file = path/data_save_name\n",
        "    if save_file.exists():\n",
        "        data = load_data(path, data_save_name)\n",
        "    else:\n",
        "        save_file.parent.mkdir(exist_ok=True, parents=True)\n",
        "        vocab = MusicVocab.create()\n",
        "        processors = [OpenNPFileProcessor(), MusicItemProcessor()]\n",
        "\n",
        "        data = MusicDataBunch.from_files(files, path, processors=processors, encode_position=True)\n",
        "        data.save(data_save_name)\n",
        "    return data\n",
        "numpy_files = get_files(numpy_path, extensions='.npy', recurse=False); len(numpy_files)"
      ],
      "execution_count": null,
      "outputs": []
    },
    {
      "cell_type": "code",
      "metadata": {
        "id": "y8fu3PVgdZW4",
        "colab_type": "code",
        "cellView": "form",
        "colab": {}
      },
      "source": [
        "#@title Create final training dataset file (training-data-piano-no-dynamics.pkl)\n",
        "all_data = create_databunch(numpy_files, data_save_name=data_save_name); all_data"
      ],
      "execution_count": null,
      "outputs": []
    },
    {
      "cell_type": "markdown",
      "metadata": {
        "id": "IRvnFMqWP1Ai",
        "colab_type": "text"
      },
      "source": [
        "# TRAIN, SAVE, AND PLOT MODEL PERFOMANCE"
      ]
    },
    {
      "cell_type": "code",
      "metadata": {
        "id": "AkrdRghxkXzB",
        "colab_type": "code",
        "cellView": "form",
        "colab": {}
      },
      "source": [
        "#@title Initialize the model\n",
        "!nvidia-smi\n",
        "batch_size = 32\n",
        "encode_position = True\n",
        "config = default_config()\n",
        "dl_tfms = [batch_position_tfm] if encode_position else []\n",
        "data = load_data(data_path, data_save_name, bs=batch_size, encode_position=encode_position, transpose_range=[0, 12], dl_tfms=dl_tfms)\n",
        "learn = music_model_learner(data, config=config.copy(), metrics=[accuracy, error_rate])\n",
        "!nvidia-smi\n"
      ],
      "execution_count": null,
      "outputs": []
    },
    {
      "cell_type": "code",
      "metadata": {
        "id": "xXAD2KWazW0d",
        "colab_type": "code",
        "cellView": "form",
        "colab": {}
      },
      "source": [
        "#@title (Optional) Load Existing Model Checkpoint\n",
        "config = default_config()\n",
        "pretrained_path = Path('/content/musicautobot/SuperPianoModel.pth')\n",
        "learn = music_model_learner(data, config=config, pretrained_path=pretrained_path, metrics=[accuracy, error_rate])"
      ],
      "execution_count": null,
      "outputs": []
    },
    {
      "cell_type": "code",
      "metadata": {
        "id": "04QoLCIEH2v7",
        "colab_type": "code",
        "cellView": "form",
        "colab": {}
      },
      "source": [
        "#@title Find the optimum learning rate first by running this cell\n",
        "learn.lr_find()\n",
        "learn.recorder.plot()\n",
        "learn.recorder.plot_lr(show_moms=True)"
      ],
      "execution_count": null,
      "outputs": []
    },
    {
      "cell_type": "code",
      "metadata": {
        "id": "Eq55lYQlkhht",
        "colab_type": "code",
        "cellView": "form",
        "colab": {}
      },
      "source": [
        "#@title Start/Continue Training\n",
        "number_of_training_epochs = 2 #@param {type:\"slider\", min:0, max:10, step:1}\n",
        "optimum_learning_rate = 0.01 #@param {type:\"number\"}\n",
        "\n",
        "learn.fit_one_cycle(number_of_training_epochs, optimum_learning_rate)"
      ],
      "execution_count": null,
      "outputs": []
    },
    {
      "cell_type": "code",
      "metadata": {
        "id": "3pvhIoY3klFe",
        "colab_type": "code",
        "cellView": "form",
        "colab": {}
      },
      "source": [
        "#@title Save and Plot\n",
        "learn.save('/content/musicautobot/SuperPianoModel')\n",
        "learn.recorder.plot_lr(show_moms=True)"
      ],
      "execution_count": null,
      "outputs": []
    },
    {
      "cell_type": "markdown",
      "metadata": {
        "id": "EckFLJkjJdFg",
        "colab_type": "text"
      },
      "source": [
        "# GENERATE MUSIC WITH THE MODEL"
      ]
    },
    {
      "cell_type": "markdown",
      "metadata": {
        "id": "FmhNm2TcJdFh",
        "colab_type": "text"
      },
      "source": [
        "## SETUP VARIABLES AND LOAD/RE-LOAD THE MODEL (just in case)"
      ]
    },
    {
      "cell_type": "code",
      "metadata": {
        "id": "hH7drZxkJdFi",
        "colab_type": "code",
        "cellView": "form",
        "colab": {}
      },
      "source": [
        "#@title Setup Paths and Intialize the Model\n",
        "# Location of your midi files\n",
        "midi_path = Path('/content/musicautobot')\n",
        "\n",
        "# Location of saved datset\n",
        "data_path = Path('/content/musicautobot')\n",
        "\n",
        "# Data and Vocab variables initialization\n",
        "data = MusicDataBunch.empty(data_path) #for pretrained models\n",
        "vocab = data.vocab\n",
        "\n",
        "# Location of pretrained model\n",
        "pretrained_path = Path('/content/musicautobot/SuperPianoModel.pth')\n",
        "pretrained_path.parent.mkdir(parents=True, exist_ok=True)\n",
        "\n",
        "# Initialize the model\n",
        "config = default_config()\n",
        "learn = music_model_learner(data, config=config, pretrained_path=pretrained_path)"
      ],
      "execution_count": null,
      "outputs": []
    },
    {
      "cell_type": "markdown",
      "metadata": {
        "id": "G3HDp9EMJdFr",
        "colab_type": "text"
      },
      "source": [
        "### PREDICTION"
      ]
    },
    {
      "cell_type": "markdown",
      "metadata": {
        "id": "UDWCdsHFJdFr",
        "colab_type": "text"
      },
      "source": [
        "## Choose existing midi file as a starting point"
      ]
    },
    {
      "cell_type": "code",
      "metadata": {
        "id": "tJGaOvmbt08K",
        "colab_type": "code",
        "cellView": "form",
        "colab": {}
      },
      "source": [
        "#@title Upload your seed MIDI (will purge all MID/MIDI files you might've uploaded before)\n",
        "%cd /content/musicautobot\n",
        "!rm *.mid *.midi\n",
        "uploaded = files.upload()\n",
        "midi_files = get_files(midi_path, recurse=False, extensions='.mid'); midi_files[:5]\n",
        "idx = 0\n",
        "f = midi_files[idx]; f"
      ],
      "execution_count": null,
      "outputs": []
    },
    {
      "cell_type": "markdown",
      "metadata": {
        "id": "nJShT9HKJdFw",
        "colab_type": "text"
      },
      "source": [
        "## Trim (use seed from a MIDI file to predict next sequence/continuation)\n",
        "\n"
      ]
    },
    {
      "cell_type": "code",
      "metadata": {
        "id": "pPvOU-sUPqGc",
        "colab_type": "code",
        "cellView": "form",
        "colab": {}
      },
      "source": [
        "##@title Setup Pianoroll Output :) { run: \"auto\" }\n",
        "graphs_length_inches = 18 #@param {type:\"slider\", min:0, max:20, step:1}\n",
        "notes_graph_height = 5 #@param {type:\"slider\", min:0, max:20, step:1}\n",
        "\n",
        "import librosa\n",
        "import numpy as np\n",
        "import pretty_midi\n",
        "import pypianoroll\n",
        "from pypianoroll import Multitrack, Track\n",
        "import matplotlib\n",
        "import matplotlib.pyplot as plt\n",
        "#matplotlib.use('SVG')\n",
        "# For plotting\n",
        "import mir_eval.display\n",
        "import librosa.display\n",
        "%matplotlib inline\n",
        "\n",
        "\n",
        "#midi_data = pretty_midi.PrettyMIDI('/content/MusicTransformer-Pytorch/output/rand.mid')\n",
        "\n",
        "def plot_piano_roll(pm, start_pitch, end_pitch, fs=100):\n",
        "    # Use librosa's specshow function for displaying the piano roll\n",
        "    librosa.display.specshow(pm.get_piano_roll(fs)[start_pitch:end_pitch],\n",
        "                             hop_length=1, sr=fs, x_axis='time', y_axis='cqt_note',\n",
        "                             fmin=pretty_midi.note_number_to_hz(start_pitch))\n",
        "\n",
        "\n",
        "\n",
        "roll = np.zeros([int(graphs_length_inches), 128])\n"
      ],
      "execution_count": null,
      "outputs": []
    },
    {
      "cell_type": "code",
      "metadata": {
        "id": "WUPmoGqcJdFx",
        "colab_type": "code",
        "cellView": "form",
        "colab": {}
      },
      "source": [
        "#@title Show/Plot/Listen to the seed uploaded above. You can also run this cell to see Seed Continuation output below\n",
        "MIDI_cutoff_beat = 20 #@param {type:\"slider\", min:0, max:100, step:1}\n",
        "cutoff_beat = 20\n",
        "item = MusicItem.from_file(f, data.vocab)\n",
        "seed_item = item.trim_to_beat(cutoff_beat)\n",
        "\n",
        "seed_item.stream.write('midi', '/content/musicautobot/seed_item.mid')\n",
        "\n",
        "roll = np.zeros([int(graphs_length_inches), 128])\n",
        "midi_data = pretty_midi.PrettyMIDI('/content/musicautobot/seed_item.mid')\n",
        "\n",
        "plt.figure(figsize=[graphs_length_inches, notes_graph_height])\n",
        "ax2 = plot_piano_roll(midi_data, 24, 84)\n",
        "plt.show(block=False)\n",
        "\n",
        "play_wav(seed_item.stream)"
      ],
      "execution_count": null,
      "outputs": []
    },
    {
      "cell_type": "markdown",
      "metadata": {
        "id": "W_h-A5huKxXu",
        "colab_type": "text"
      },
      "source": [
        "## GENERATE (CHOOSE ONE OPTION BELOW)"
      ]
    },
    {
      "cell_type": "markdown",
      "metadata": {
        "id": "EerOfXwwsOBD",
        "colab_type": "text"
      },
      "source": [
        "### GENERATE w/starting sequence (Continuation)"
      ]
    },
    {
      "cell_type": "code",
      "metadata": {
        "id": "2LA7EeVpKh4Y",
        "colab_type": "code",
        "cellView": "form",
        "colab": {}
      },
      "source": [
        "#@title Seed Continuation\n",
        "number_of_tokens_to_generate = 256 #@param {type:\"slider\", min:0, max:4096, step:64}\n",
        "max_model_temperature = 0.7 #@param {type:\"slider\", min:0, max:4, step:0.1}\n",
        "min_model_temperature = 1.3 #@param {type:\"slider\", min:0, max:4, step:0.1}\n",
        "model_top_k = 30 #@param {type:\"slider\", min:0, max:50, step:1}\n",
        "model_top_p = 0.9 #@param {type:\"slider\", min:0, max:1, step:0.1}\n",
        "minimum_number_of_bars_to_generate = 8 #@param {type:\"slider\", min:0, max:64, step:1}\n",
        "seed_item = MusicItem.from_file('seed_item.mid', data.vocab)\n",
        "pred, full = learn.predict(seed_item, n_words=number_of_tokens_to_generate, temperatures=(max_model_temperature, min_model_temperature), min_bars=minimum_number_of_bars_to_generate, top_k=model_top_k, top_p=model_top_p)\n",
        "#pred.show()\n",
        "pred.stream.write('midi', '/content/musicautobot/continuation.mid')\n",
        "\n",
        "\n",
        "roll = np.zeros([int(graphs_length_inches), 128])\n",
        "midi_data = pretty_midi.PrettyMIDI('/content/musicautobot/continuation.mid')\n",
        "\n",
        "plt.figure(figsize=[graphs_length_inches, notes_graph_height])\n",
        "ax2 = plot_piano_roll(midi_data, 24, 84)\n",
        "plt.show(block=False)\n",
        "\n",
        "play_wav(pred.stream)"
      ],
      "execution_count": null,
      "outputs": []
    },
    {
      "cell_type": "code",
      "metadata": {
        "id": "UZg6f8mVJdF_",
        "colab_type": "code",
        "cellView": "form",
        "colab": {}
      },
      "source": [
        "#@title Would you like to add generated continuation to the seed/previous section??? If yes, run this cell, if not, go back and start over.\n",
        "seed_item = seed_item.append(pred)\n",
        "#seed_item.show()\n",
        "\n",
        "seed_item.stream.write('midi', '/content/musicautobot/seed_continuation.mid')\n",
        "\n",
        "roll = np.zeros([int(graphs_length_inches), 128])\n",
        "midi_data = pretty_midi.PrettyMIDI('/content/musicautobot/seed_continuation.mid')\n",
        "\n",
        "plt.figure(figsize=[graphs_length_inches, notes_graph_height])\n",
        "ax2 = plot_piano_roll(midi_data, 24, 84)\n",
        "plt.show(block=False)\n",
        "\n",
        "play_wav(seed_item.stream)"
      ],
      "execution_count": null,
      "outputs": []
    },
    {
      "cell_type": "markdown",
      "metadata": {
        "id": "b-hAoe5HJdGS",
        "colab_type": "text"
      },
      "source": [
        "### GENERATE w/o a starting sequence (Performance)"
      ]
    },
    {
      "cell_type": "code",
      "metadata": {
        "id": "h9gF6rt7JdGU",
        "colab_type": "code",
        "cellView": "form",
        "colab": {}
      },
      "source": [
        "#@title Original Uninfluenced Performance\n",
        "number_of_tokens_to_generate = 1024 #@param {type:\"slider\", min:0, max:4096, step:64}\n",
        "max_model_temperature = 1.4 #@param {type:\"slider\", min:0, max:4, step:0.1}\n",
        "min_model_temperature = 0.7 #@param {type:\"slider\", min:0, max:4, step:0.1}\n",
        "model_top_k = 20 #@param {type:\"slider\", min:0, max:50, step:1}\n",
        "model_top_p = 0.8 #@param {type:\"slider\", min:0, max:1, step:0.1}\n",
        "minimum_number_of_bars_to_generate = 8 #@param {type:\"slider\", min:0, max:64, step:1}\n",
        "\n",
        "empty_item = MusicItem.empty(vocab)\n",
        "pred, full = learn.predict(empty_item, n_words=number_of_tokens_to_generate, temperatures=(max_model_temperature, min_model_temperature), min_bars=minimum_number_of_bars_to_generate, top_k=model_top_k, top_p=model_top_p)\n",
        "#pred.show()\n",
        "pred.stream.write('midi', '/content/musicautobot/performance.mid')\n",
        "\n",
        "roll = np.zeros([int(graphs_length_inches), 128])\n",
        "midi_data = pretty_midi.PrettyMIDI('/content/musicautobot/performance.mid')\n",
        "\n",
        "plt.figure(figsize=[graphs_length_inches, notes_graph_height])\n",
        "ax2 = plot_piano_roll(midi_data, 24, 84)\n",
        "plt.show(block=False)\n",
        "\n",
        "play_wav(pred.stream)"
      ],
      "execution_count": null,
      "outputs": []
    }
  ]
}